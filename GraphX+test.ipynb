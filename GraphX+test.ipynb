{
 "cells": [
  {
   "cell_type": "markdown",
   "metadata": {},
   "source": [
    "# Graph Analysis with GraphX Tutorial\n",
    "GraphX API를 통한 분석 예제 제공\n",
    "사용 데이터 : [The Bay Area Bike Share portal](http://www.bayareabikeshare.com/open-data)\n",
    "\n",
    "데이터는 BayAreaBikeShare라는 데이터 공유사이트에서 2014년 9월~2015년 8월까지의 공공자전거 이용현황을 오픈해놓은 것임\n",
    "\n",
    "주의점 : GraphX computation is only supported using the Scala and RDD APIs.\n",
    "\n",
    "* 예제 프로세스 :\n",
    "  1. 데이터 로드\n",
    "  1. 데이터 전처리\n",
    "  1. Vertext 생성\n",
    "  1. Edge 생성\n",
    "  1. Graph 생성 및 알고리즘 테스트\n",
    "    1. PageRank\n",
    "    1. Trips From Vertext to Vertex\n",
    "    1. In degree and Out degree\n",
    "  \n",
    "GraphX에서 제공하는 [PageRank](https://en.wikipedia.org/wiki/PageRank) 알고리즘은 네트웍 상의 중요한 정점을 찾는데 사용됨"
   ]
  },
  {
   "cell_type": "code",
   "execution_count": 29,
   "metadata": {
    "collapsed": true,
    "scrolled": true
   },
   "outputs": [],
   "source": [
    "import org.apache.spark.sql._"
   ]
  },
  {
   "cell_type": "code",
   "execution_count": 4,
   "metadata": {
    "collapsed": true,
    "scrolled": true
   },
   "outputs": [],
   "source": [
    "val sparkSession = SparkSession.builder.config(conf = sc.getConf).\n",
    "                                        appName(\"spark session example\").\n",
    "                                        getOrCreate()"
   ]
  },
  {
   "cell_type": "code",
   "execution_count": 5,
   "metadata": {
    "collapsed": true
   },
   "outputs": [],
   "source": [
    "import sparkSession.implicits._"
   ]
  },
  {
   "cell_type": "code",
   "execution_count": 6,
   "metadata": {
    "collapsed": true,
    "scrolled": true
   },
   "outputs": [],
   "source": [
    "val sf_201508_station_data = sparkSession.read.format(\"com.databricks.spark.csv\").\n",
    "                                                option(\"header\",\"true\").\n",
    "                                                option(\"mode\",\"DROPMALFORMED\").\n",
    "                                                load(\"201508_station_data.csv\")"
   ]
  },
  {
   "cell_type": "code",
   "execution_count": 7,
   "metadata": {
    "collapsed": true,
    "scrolled": true
   },
   "outputs": [],
   "source": [
    "val sf_201508_trip_data = sparkSession.read.format(\"com.databricks.spark.csv\").\n",
    "                                                option(\"header\",\"true\").\n",
    "                                                option(\"mode\",\"DROPMALFORMED\").\n",
    "                                                load(\"201508_trip_data.csv\")"
   ]
  },
  {
   "cell_type": "code",
   "execution_count": 8,
   "metadata": {
    "collapsed": true,
    "scrolled": false
   },
   "outputs": [],
   "source": [
    "sf_201508_station_data.createOrReplaceTempView(\"sf_201508_station_data\")\n",
    "sf_201508_trip_data.createOrReplaceTempView(\"sf_201508_trip_data\")"
   ]
  },
  {
   "cell_type": "code",
   "execution_count": 9,
   "metadata": {
    "collapsed": true,
    "scrolled": false
   },
   "outputs": [],
   "source": [
    "val bikeStations = sparkSession.sql(\"SELECT * FROM sf_201508_station_data\")\n",
    "val tripData = sparkSession.sql(\"SELECT * FROM sf_201508_trip_data\")"
   ]
  },
  {
   "cell_type": "code",
   "execution_count": 10,
   "metadata": {
    "scrolled": true
   },
   "outputs": [
    {
     "name": "stdout",
     "output_type": "stream",
     "text": [
      "root\n",
      " |-- station_id: string (nullable = true)\n",
      " |-- name: string (nullable = true)\n",
      " |-- lat: string (nullable = true)\n",
      " |-- long: string (nullable = true)\n",
      " |-- dockcount: string (nullable = true)\n",
      " |-- landmark: string (nullable = true)\n",
      " |-- installation: string (nullable = true)\n",
      "\n",
      "root\n",
      " |-- Trip ID: string (nullable = true)\n",
      " |-- Duration: string (nullable = true)\n",
      " |-- Start Date: string (nullable = true)\n",
      " |-- Start Station: string (nullable = true)\n",
      " |-- Start Terminal: string (nullable = true)\n",
      " |-- End Date: string (nullable = true)\n",
      " |-- End Station: string (nullable = true)\n",
      " |-- End Terminal: string (nullable = true)\n",
      " |-- Bike #: string (nullable = true)\n",
      " |-- Subscriber Type: string (nullable = true)\n",
      " |-- Zip Code: string (nullable = true)\n",
      "\n"
     ]
    }
   ],
   "source": [
    "bikeStations.printSchema()\n",
    "tripData.printSchema()"
   ]
  },
  {
   "cell_type": "code",
   "execution_count": 11,
   "metadata": {
    "collapsed": true,
    "scrolled": false
   },
   "outputs": [],
   "source": [
    "import org.apache.spark.graphx._\n",
    "import org.apache.spark.rdd.RDD"
   ]
  },
  {
   "cell_type": "code",
   "execution_count": 12,
   "metadata": {
    "collapsed": true,
    "scrolled": false
   },
   "outputs": [],
   "source": [
    "val justStations = bikeStations.selectExpr(\"float(station_id) as station_id\",\"name\").distinct()"
   ]
  },
  {
   "cell_type": "code",
   "execution_count": 13,
   "metadata": {},
   "outputs": [
    {
     "name": "stdout",
     "output_type": "stream",
     "text": [
      "+----------+--------------------+\n",
      "|station_id|                name|\n",
      "+----------+--------------------+\n",
      "|      59.0| Golden Gate at Polk|\n",
      "|      22.0|Redwood City Calt...|\n",
      "|      62.0|       2nd at Folsom|\n",
      "|      80.0|Santa Clara Count...|\n",
      "|      57.0|       5th at Howard|\n",
      "|      13.0|       St James Park|\n",
      "|      14.0|Arena Green / SAP...|\n",
      "|      84.0|         Ryland Park|\n",
      "|      46.0|Washington at Kea...|\n",
      "|      39.0|  Powell Street BART|\n",
      "|      31.0|San Antonio Shopp...|\n",
      "|      82.0|Broadway St at Ba...|\n",
      "|      35.0|University and Em...|\n",
      "|      47.0|     Post at Kearney|\n",
      "|      77.0|   Market at Sansome|\n",
      "|      72.0|Civic Center BART...|\n",
      "|      32.0|Castro Street and...|\n",
      "|      36.0|California Ave Ca...|\n",
      "|      50.0|Harry Bridges Pla...|\n",
      "|      48.0|Embarcadero at Va...|\n",
      "+----------+--------------------+\n",
      "only showing top 20 rows\n",
      "\n"
     ]
    }
   ],
   "source": [
    "justStations.show()"
   ]
  },
  {
   "cell_type": "code",
   "execution_count": 14,
   "metadata": {
    "collapsed": true,
    "scrolled": true
   },
   "outputs": [],
   "source": [
    "val completeTripData = tripData.\n",
    "                        join(justStations, tripData(\"Start Station\") === bikeStations(\"name\")).\n",
    "                        withColumnRenamed(\"station_id\",\"start_station_id\").drop(\"name\").\n",
    "                        join(justStations, tripData(\"End Station\") === bikeStations(\"name\")).\n",
    "                        withColumnRenamed(\"station_id\",\"end_station_id\").drop(\"name\")"
   ]
  },
  {
   "cell_type": "code",
   "execution_count": 15,
   "metadata": {
    "scrolled": false
   },
   "outputs": [
    {
     "data": {
      "text/plain": [
       "Array([13])"
      ]
     },
     "execution_count": 15,
     "metadata": {},
     "output_type": "execute_result"
    }
   ],
   "source": [
    "val stations = completeTripData.\n",
    "                select(\"start_station_id\", \"end_station_id\").\n",
    "                rdd.\n",
    "                distinct(). // helps filter out duplicate trips\n",
    "                flatMap(x => Iterable(x(0).asInstanceOf[Number].longValue, x(1).asInstanceOf[Number].longValue)). // helps us maintain types\n",
    "                distinct().\n",
    "                toDF() // return to a DF to make merging + joining easier\n",
    "\n",
    "stations.take(1) // this is just a station_id at this point"
   ]
  },
  {
   "cell_type": "code",
   "execution_count": 16,
   "metadata": {},
   "outputs": [
    {
     "data": {
      "text/plain": [
       "Array((13,St James Park))"
      ]
     },
     "execution_count": 16,
     "metadata": {},
     "output_type": "execute_result"
    }
   ],
   "source": [
    "val stationVertices: RDD[(VertexId, String)] = stations.\n",
    "                                join(justStations, stations(\"value\") === justStations(\"station_id\")).\n",
    "                                select(\"station_id\",\"name\").\n",
    "                                rdd.\n",
    "                                map(row => (row(0).asInstanceOf[Number].longValue, row(1).asInstanceOf[String]))\n",
    "                                                \n",
    "stationVertices.take(1)"
   ]
  },
  {
   "cell_type": "code",
   "execution_count": 17,
   "metadata": {
    "collapsed": true
   },
   "outputs": [],
   "source": [
    "val stationEdges:RDD[Edge[Long]] = completeTripData.\n",
    "                select(\"start_station_id\", \"end_station_id\").\n",
    "                rdd.\n",
    "                map(row => Edge(row(0).asInstanceOf[Number].longValue, row(1).asInstanceOf[Number].longValue, 1))"
   ]
  },
  {
   "cell_type": "code",
   "execution_count": 18,
   "metadata": {},
   "outputs": [
    {
     "data": {
      "text/plain": [
       "org.apache.spark.graphx.impl.GraphImpl@64d4c54f"
      ]
     },
     "execution_count": 18,
     "metadata": {},
     "output_type": "execute_result"
    }
   ],
   "source": [
    "val defaultStation = (\"Missing Station\")\n",
    "val stationGraph = Graph(stationVertices, stationEdges, defaultStation)\n",
    "stationGraph.cache()"
   ]
  },
  {
   "cell_type": "code",
   "execution_count": 19,
   "metadata": {},
   "outputs": [
    {
     "name": "stdout",
     "output_type": "stream",
     "text": [
      "Total Number of Stations: 68\n",
      "Total Number of Trips: 339030\n",
      "Total Number of Trips in Original Data: 354152\n"
     ]
    }
   ],
   "source": [
    "println(\"Total Number of Stations: \" + stationGraph.numVertices)\n",
    "println(\"Total Number of Trips: \" + stationGraph.numEdges)\n",
    "\n",
    "println(\"Total Number of Trips in Original Data: \" + tripData.count)"
   ]
  },
  {
   "cell_type": "markdown",
   "metadata": {},
   "source": [
    "# PageRank"
   ]
  },
  {
   "cell_type": "code",
   "execution_count": 28,
   "metadata": {},
   "outputs": [
    {
     "name": "stdout",
     "output_type": "stream",
     "text": [
      "San Jose Diridon Caltrain Station\n",
      "San Francisco Caltrain (Townsend at 4th)\n",
      "Mountain View Caltrain Station\n",
      "Redwood City Caltrain Station\n",
      "San Francisco Caltrain 2 (330 Townsend)\n",
      "Harry Bridges Plaza (Ferry Building)\n",
      "2nd at Townsend\n",
      "Santa Clara at Almaden\n",
      "Townsend at 7th\n",
      "Embarcadero at Sansome\n"
     ]
    }
   ],
   "source": [
    "val ranks = stationGraph.pageRank(0.01).vertices\n",
    "ranks.\n",
    "    join(stationVertices).\n",
    "    sortBy(_._2._1, ascending=false).  // sort by the rank\n",
    "    take(10).\n",
    "    foreach(x => println(x._2._2))"
   ]
  },
  {
   "cell_type": "markdown",
   "metadata": {
    "collapsed": true
   },
   "source": [
    "# Trips From Station to Station\n",
    "가장 많이 나온 경로 순으로 정렬"
   ]
  },
  {
   "cell_type": "code",
   "execution_count": 21,
   "metadata": {},
   "outputs": [
    {
     "name": "stdout",
     "output_type": "stream",
     "text": [
      "There were 3748 trips from San Francisco Caltrain 2 (330 Townsend) to Townsend at 7th\n",
      "There were 3145 trips from Harry Bridges Plaza (Ferry Building) to Embarcadero at Sansome\n",
      "There were 2973 trips from 2nd at Townsend to Harry Bridges Plaza (Ferry Building)\n",
      "There were 2734 trips from Townsend at 7th to San Francisco Caltrain 2 (330 Townsend)\n",
      "There were 2640 trips from Harry Bridges Plaza (Ferry Building) to 2nd at Townsend\n",
      "There were 2439 trips from Embarcadero at Folsom to San Francisco Caltrain (Townsend at 4th)\n",
      "There were 2356 trips from Steuart at Market to 2nd at Townsend\n",
      "There were 2330 trips from Embarcadero at Sansome to Steuart at Market\n",
      "There were 2192 trips from Townsend at 7th to San Francisco Caltrain (Townsend at 4th)\n",
      "There were 2184 trips from Temporary Transbay Terminal (Howard at Beale) to San Francisco Caltrain (Townsend at 4th)\n"
     ]
    }
   ],
   "source": [
    "stationGraph.\n",
    "    groupEdges((edge1, edge2) => edge1 + edge2).\n",
    "    triplets.\n",
    "    sortBy(_.attr, ascending=false).\n",
    "    map(triplet => \"There were \" + triplet.attr.toString + \" trips from \" + triplet.srcAttr + \" to \" + triplet.dstAttr).\n",
    "    take(10).\n",
    "    foreach(println)"
   ]
  },
  {
   "cell_type": "markdown",
   "metadata": {},
   "source": [
    "# In Degress and Out Degrees\n",
    "Vertext의 [입력차수와 출력차수](http://mathworld.wolfram.com/VertexDegree.html)는 그래프 탐색에서 유용한 자료로 사용될 수 있음\n",
    "\n",
    "다음 예제는 가장많은 입력차수를 가지는 Vertex와\n",
    "\n",
    "가장 많은 출력차수를 가지는 Vertex\n",
    "\n",
    "그리고 가장 많은 indegree를 가지지만 가장 적은 outdegree를 가지는 Vertex\n",
    "\n",
    "그 반대의 경우 Vertex를 순위별로 출력함"
   ]
  },
  {
   "cell_type": "code",
   "execution_count": 22,
   "metadata": {},
   "outputs": [
    {
     "name": "stdout",
     "output_type": "stream",
     "text": [
      "San Francisco Caltrain (Townsend at 4th) has 34166 in degrees.\n",
      "San Francisco Caltrain 2 (330 Townsend) has 22109 in degrees.\n",
      "Harry Bridges Plaza (Ferry Building) has 17403 in degrees.\n",
      "2nd at Townsend has 15279 in degrees.\n",
      "Townsend at 7th has 15126 in degrees.\n",
      "Embarcadero at Sansome has 14705 in degrees.\n",
      "Market at Sansome has 13778 in degrees.\n",
      "Steuart at Market has 13383 in degrees.\n",
      "Temporary Transbay Terminal (Howard at Beale) has 12748 in degrees.\n",
      "Market at 10th has 9988 in degrees.\n"
     ]
    }
   ],
   "source": [
    "// Indegree 상위 10개\n",
    "stationGraph.\n",
    "    inDegrees.\n",
    "    join(stationVertices).\n",
    "    sortBy(_._2._1, ascending=false).\n",
    "    take(10).\n",
    "    foreach(x => println(x._2._2 + \" has \" + x._2._1 + \" in degrees.\"))"
   ]
  },
  {
   "cell_type": "code",
   "execution_count": 23,
   "metadata": {},
   "outputs": [
    {
     "name": "stdout",
     "output_type": "stream",
     "text": [
      "San Francisco Caltrain (Townsend at 4th) has 25631 out degrees.\n",
      "San Francisco Caltrain 2 (330 Townsend) has 21245 out degrees.\n",
      "Harry Bridges Plaza (Ferry Building) has 16917 out degrees.\n",
      "Temporary Transbay Terminal (Howard at Beale) has 14242 out degrees.\n",
      "Embarcadero at Sansome has 13885 out degrees.\n",
      "2nd at Townsend has 13746 out degrees.\n",
      "Steuart at Market has 13478 out degrees.\n",
      "Townsend at 7th has 13465 out degrees.\n",
      "Market at 10th has 11449 out degrees.\n",
      "Market at Sansome has 11317 out degrees.\n"
     ]
    }
   ],
   "source": [
    "stationGraph.\n",
    "    outDegrees.\n",
    "    join(stationVertices).\n",
    "    sortBy(_._2._1, ascending=false).\n",
    "    take(10).\n",
    "    foreach(x => println(x._2._2 + \" has \" + x._2._1 + \" out degrees.\"))"
   ]
  },
  {
   "cell_type": "code",
   "execution_count": 24,
   "metadata": {},
   "outputs": [
    {
     "name": "stdout",
     "output_type": "stream",
     "text": [
      "Redwood City Medical Center (id:26) has a in/out degree ratio of 1.5333333333333334\n",
      "San Mateo County Center (id:23) has a in/out degree ratio of 1.4724409448818898\n",
      "SJSU 4th at San Carlos (id:12) has a in/out degree ratio of 1.3621052631578947\n",
      "San Francisco Caltrain (Townsend at 4th) (id:70) has a in/out degree ratio of 1.3329952011236395\n",
      "Paseo de San Antonio (id:7) has a in/out degree ratio of 1.2535046728971964\n"
     ]
    }
   ],
   "source": [
    "stationGraph.\n",
    "    inDegrees.\n",
    "    join(stationGraph.outDegrees).\n",
    "    join(stationVertices).\n",
    "    map(x => (x._2._1._1.toDouble/x._2._1._2.toDouble, x._2._2+\" (id:\"+x._1+\")\")).\n",
    "    sortBy(_._1, ascending=false).\n",
    "    take(5).\n",
    "    foreach(x => println(x._2 + \" has a in/out degree ratio of \" + x._1))"
   ]
  },
  {
   "cell_type": "code",
   "execution_count": 27,
   "metadata": {},
   "outputs": [
    {
     "name": "stdout",
     "output_type": "stream",
     "text": [
      "Grant Avenue at Columbus Avenue has a out/in degree ratio of 1.9841936280563102\n",
      "2nd at Folsom has a out/in degree ratio of 1.6663080895008606\n",
      "Powell at Post (Union Square) has a out/in degree ratio of 1.5090406830738323\n",
      "Mezes Park has a out/in degree ratio of 1.4620689655172414\n",
      "Evelyn Park and Ride has a out/in degree ratio of 1.3489655172413793\n"
     ]
    }
   ],
   "source": [
    "stationGraph.\n",
    "    outDegrees.\n",
    "    join(stationGraph.inDegrees).\n",
    "    join(stationVertices).\n",
    "    map(x => (x._2._1._1.toDouble/x._2._1._2.toDouble, x._2._2)).\n",
    "    sortBy(_._1, ascending=false).\n",
    "    take(5).\n",
    "    foreach(x => println(x._2 + \" has a out/in degree ratio of \" + x._1))"
   ]
  },
  {
   "cell_type": "code",
   "execution_count": null,
   "metadata": {
    "collapsed": true
   },
   "outputs": [],
   "source": []
  }
 ],
 "metadata": {
  "celltoolbar": "Raw Cell Format",
  "kernelspec": {
   "display_name": "Apache Toree - Scala",
   "language": "scala",
   "name": "apache_toree_scala"
  },
  "language_info": {
   "file_extension": ".scala",
   "name": "scala",
   "version": "2.11.8"
  }
 },
 "nbformat": 4,
 "nbformat_minor": 2
}
